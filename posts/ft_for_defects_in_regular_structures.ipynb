{
 "cells": [
  {
   "cell_type": "markdown",
   "metadata": {},
   "source": [
    "# Fourier Transform for detecting defects on images with regular patterns"
   ]
  },
  {
   "cell_type": "code",
   "execution_count": null,
   "metadata": {},
   "outputs": [],
   "source": [
    "# To autoreload external functions\n",
    "%load_ext autoreload\n",
    "%autoreload 2"
   ]
  },
  {
   "cell_type": "code",
   "execution_count": null,
   "metadata": {},
   "outputs": [],
   "source": [
    "from pathlib import Path\n",
    "from PIL import Image, ImageChops\n",
    "import numpy as np\n",
    "from scipy.fft import rfft, rfftfreq, fft2, fftshift, ifft2, ifftshift\n",
    "import cv2\n",
    "from skimage import morphology\n",
    "from skimage import measure\n",
    "from skimage import segmentation\n",
    "from bokeh.plotting import figure, show\n",
    "from bokeh.models import HoverTool, VBar, Block\n",
    "from bokeh.layouts import row, column\n",
    "\n",
    "import rootutils\n",
    "root = rootutils.setup_root(Path.cwd(), dotenv=True, pythonpath=True, cwd=False)\n",
    "\n",
    "from src.visualization.utils import save_plot_from_notbook_for_jekyll, bokeh_notebook_setup, save_plot_from_notebook_to_html\n",
    "from src.visualization.image import plot_img_rgba, plot_img_scalar, add_bboxes_on_img"
   ]
  },
  {
   "cell_type": "markdown",
   "metadata": {},
   "source": [
    "## Setup"
   ]
  },
  {
   "cell_type": "code",
   "execution_count": null,
   "metadata": {},
   "outputs": [],
   "source": [
    "bokeh_notebook_setup()"
   ]
  },
  {
   "cell_type": "code",
   "execution_count": null,
   "metadata": {},
   "outputs": [],
   "source": [
    "data_path = Path(\"../data/raw/grid\")\n",
    "output_path = Path(\"./logs\")"
   ]
  },
  {
   "cell_type": "markdown",
   "metadata": {},
   "source": [
    "## Helper Functions"
   ]
  },
  {
   "cell_type": "code",
   "execution_count": null,
   "metadata": {},
   "outputs": [],
   "source": [
    "def line_plot(x: np.ndarray, y: np.ndarray, title: str = \"\") -> None:\n",
    "    p = figure(width=400, height=400, title=title)\n",
    "    p.add_tools(\n",
    "        HoverTool(\n",
    "            tooltips=[\n",
    "                (\"(x,y)\", \"(@x, @y)\"),\n",
    "            ],\n",
    "        )\n",
    "    )\n",
    "    p.line(x, y, line_width=2)\n",
    "    p.toolbar.logo = None\n",
    "\n",
    "    return p"
   ]
  },
  {
   "cell_type": "markdown",
   "metadata": {},
   "source": [
    "## Normal data sample with regular pattern"
   ]
  },
  {
   "cell_type": "code",
   "execution_count": null,
   "metadata": {},
   "outputs": [],
   "source": [
    "img_path = data_path / \"train/good/000.png\"\n",
    "\n",
    "img = Image.open(img_path)\n",
    "img = img.convert(\"RGBA\")\n",
    "\n",
    "p = plot_img_rgba(img)\n",
    "show(p)"
   ]
  },
  {
   "cell_type": "markdown",
   "metadata": {},
   "source": [
    "## Data sample with a defect"
   ]
  },
  {
   "cell_type": "code",
   "execution_count": null,
   "metadata": {},
   "outputs": [],
   "source": [
    "img_path = data_path / \"test/broken/000.png\"\n",
    "\n",
    "img = Image.open(img_path)\n",
    "img = img.convert(\"RGBA\")\n",
    "\n",
    "p = plot_img_rgba(img)\n",
    "show(p)"
   ]
  },
  {
   "cell_type": "markdown",
   "metadata": {},
   "source": [
    "## Image Fourier Transform"
   ]
  },
  {
   "cell_type": "markdown",
   "metadata": {},
   "source": [
    "### Idea"
   ]
  },
  {
   "cell_type": "code",
   "execution_count": null,
   "metadata": {},
   "outputs": [],
   "source": [
    "x_max = 1.0\n",
    "N_samples = 100\n",
    "sample_rate = N_samples / x_max\n",
    "freq = 3.0\n",
    "\n",
    "x = np.linspace(0.0, x_max, N_samples)\n",
    "y = np.sin(freq * 2 * np.pi * x)\n",
    "\n",
    "p_left = line_plot(x, y, title=\"Original Signal\")\n",
    "\n",
    "yf = rfft(y)\n",
    "yf = np.abs(yf)\n",
    "xf = rfftfreq(N_samples, 1 / sample_rate)\n",
    "\n",
    "p_right = line_plot(xf, yf, title=\"Fourier Transform\")\n",
    "\n",
    "p = row(p_left, p_right)\n",
    "show(p)"
   ]
  },
  {
   "cell_type": "code",
   "execution_count": null,
   "metadata": {},
   "outputs": [],
   "source": [
    "y = np.zeros_like(x)\n",
    "y[0] = 1.0\n",
    "\n",
    "p_left = line_plot(x, y, title=\"Original Signal\")\n",
    "\n",
    "yf = rfft(y)\n",
    "yf = np.abs(yf)\n",
    "xf = rfftfreq(N_samples, 1 / sample_rate)\n",
    "\n",
    "p_right = line_plot(xf, yf, title=\"Fourier Transform\")\n",
    "\n",
    "p = row(p_left, p_right)\n",
    "show(p)"
   ]
  },
  {
   "cell_type": "markdown",
   "metadata": {},
   "source": [
    "### Step-by-step"
   ]
  },
  {
   "cell_type": "code",
   "execution_count": null,
   "metadata": {},
   "outputs": [],
   "source": [
    "img_path = data_path / \"test/broken/000.png\"\n",
    "\n",
    "img = Image.open(img_path)\n",
    "img = img.convert(\"L\")"
   ]
  },
  {
   "cell_type": "code",
   "execution_count": null,
   "metadata": {},
   "outputs": [],
   "source": [
    "# prepare image\n",
    "img_np = np.array(img)\n",
    "img_np = img_np / 255.0\n",
    "\n",
    "# transform to Fourier space\n",
    "f = fft2(img_np)\n",
    "fshift = fftshift(f)\n",
    "\n",
    "# frequency magnitudes\n",
    "mag_img = np.log(np.abs(fshift))\n",
    "\n",
    "p = plot_img_scalar(mag_img)\n",
    "show(p)"
   ]
  },
  {
   "cell_type": "code",
   "execution_count": null,
   "metadata": {},
   "outputs": [],
   "source": [
    "# thresholding\n",
    "mag_thresh = 0.65 # relative to max value\n",
    "max_val = mag_img.max()\n",
    "thresh_val = mag_img.min() + mag_thresh * (max_val - mag_img.min())\n",
    "ret, mag_img_mask = cv2.threshold(mag_img, thresh_val, 1.0, cv2.THRESH_BINARY)\n",
    "\n",
    "p = plot_img_scalar(mag_img_mask)\n",
    "show(p)"
   ]
  },
  {
   "cell_type": "code",
   "execution_count": null,
   "metadata": {},
   "outputs": [],
   "source": [
    "# masking\n",
    "mag_img_mask = mag_img_mask.astype(bool)\n",
    "fshift_proc = fshift * mag_img_mask\n",
    "\n",
    "# transform back\n",
    "f_ishift = ifftshift(fshift_proc)\n",
    "img_proc = ifft2(f_ishift)\n",
    "img_proc = np.abs(img_proc)\n",
    "\n",
    "# convert to image\n",
    "img_proc = (img_proc * 255.0).astype(np.uint8)\n",
    "img_proc = Image.fromarray(np.uint8(img_proc))\n",
    "\n",
    "p_proc = plot_img_rgba(img_proc, title=\"Reconstruction after masking\")\n",
    "p_org = plot_img_rgba(img, title=\"Original image\")\n",
    "\n",
    "p = column(p_proc, p_org)\n",
    "\n",
    "show(p)"
   ]
  },
  {
   "cell_type": "code",
   "execution_count": null,
   "metadata": {},
   "outputs": [],
   "source": [
    "# plot_path = output_path / \"defect_image_reconstructed.html\"\n",
    "# save_plot_from_notbook_for_jekyll(p, plot_path)"
   ]
  },
  {
   "cell_type": "code",
   "execution_count": null,
   "metadata": {},
   "outputs": [],
   "source": [
    "diff = ImageChops.difference(img, img_proc)\n",
    "p = plot_img_rgba(diff)\n",
    "show(p)"
   ]
  },
  {
   "cell_type": "markdown",
   "metadata": {},
   "source": [
    "### Alternative Approach"
   ]
  },
  {
   "cell_type": "code",
   "execution_count": null,
   "metadata": {},
   "outputs": [],
   "source": [
    "# invert mask\n",
    "mag_img_mask_inv = ~mag_img_mask\n",
    "\n",
    "# masking\n",
    "fshift_proc = fshift * mag_img_mask_inv\n",
    "\n",
    "# transform back\n",
    "f_ishift = ifftshift(fshift_proc)\n",
    "img_proc = ifft2(f_ishift)\n",
    "img_proc = np.abs(img_proc)\n",
    "\n",
    "# convert to image\n",
    "img_proc = (img_proc * 255.0).astype(np.uint8)\n",
    "img_proc = Image.fromarray(np.uint8(img_proc))\n",
    "\n",
    "p = plot_img_rgba(img_proc)\n",
    "show(p)"
   ]
  },
  {
   "cell_type": "markdown",
   "metadata": {},
   "source": [
    "### Putting everything together"
   ]
  },
  {
   "cell_type": "code",
   "execution_count": null,
   "metadata": {},
   "outputs": [],
   "source": [
    "def ft_extract_anomalies(img : Image.Image, mag_thresh : float = 0.5) -> Image.Image:\n",
    "\n",
    "    # prepare image\n",
    "    img_np = np.array(img)\n",
    "    img_np = img_np / 255.0\n",
    "\n",
    "    # transform to Fourier space\n",
    "    f = fft2(img_np)\n",
    "    fshift = fftshift(f)\n",
    "\n",
    "    # frequency magnitudes\n",
    "    mag_img = np.log(np.abs(fshift))\n",
    "\n",
    "    # thresholding\n",
    "    max_val = mag_img.max()\n",
    "    thresh_val = mag_img.min() + mag_thresh * (max_val - mag_img.min())\n",
    "    ret, mag_img_mask = cv2.threshold(mag_img, thresh_val, 1.0, cv2.THRESH_BINARY)\n",
    "\n",
    "    # masking\n",
    "    mag_img_mask = mag_img_mask.astype(bool)\n",
    "    mag_img_mask_inv = ~mag_img_mask\n",
    "\n",
    "    fshift_proc = fshift * mag_img_mask_inv\n",
    "\n",
    "    # transform back\n",
    "    f_ishift = ifftshift(fshift_proc)\n",
    "    img_proc = ifft2(f_ishift)\n",
    "    img_proc = np.abs(img_proc)\n",
    "\n",
    "    # convert to image\n",
    "    img_proc = (img_proc * 255.0).astype(np.uint8)\n",
    "    img_proc = Image.fromarray(img_proc)\n",
    "\n",
    "    return img_proc"
   ]
  },
  {
   "cell_type": "code",
   "execution_count": null,
   "metadata": {},
   "outputs": [],
   "source": [
    "img_path = data_path / \"test/broken/000.png\"\n",
    "\n",
    "img = Image.open(img_path)\n",
    "img = img.convert(\"L\")\n",
    "\n",
    "img_proc = ft_extract_anomalies(img, mag_thresh=0.65)\n",
    "p = plot_img_rgba(img_proc)\n",
    "show(p)"
   ]
  },
  {
   "cell_type": "markdown",
   "metadata": {},
   "source": [
    "## Post Processing"
   ]
  },
  {
   "cell_type": "code",
   "execution_count": null,
   "metadata": {},
   "outputs": [],
   "source": [
    "img_proc_np = np.array(img_proc)\n",
    "\n",
    "max_val = img_proc_np.max()\n",
    "thresh_val = np.percentile(img_proc_np, 99)\n",
    "ret, img_thresh = cv2.threshold(img_proc_np, int(thresh_val), 1.0, cv2.THRESH_BINARY)\n",
    "img_thresh = img_thresh > 0\n",
    "\n",
    "p = plot_img_scalar(img_thresh.astype(np.uint8))\n",
    "show(p)"
   ]
  },
  {
   "cell_type": "code",
   "execution_count": null,
   "metadata": {},
   "outputs": [],
   "source": [
    "# combine neighboring mask regions\n",
    "img_morph = morphology.binary_dilation(img_thresh, np.ones([7,7]))\n",
    "\n",
    "# remove artifacts due to blurring at the edges\n",
    "img_morph = segmentation.clear_border(img_morph)\n",
    "\n",
    "# assign label to each connected region\n",
    "img_lab = measure.label(img_morph) \n",
    "\n",
    "p = plot_img_scalar(img_lab)\n",
    "show(p)"
   ]
  },
  {
   "cell_type": "code",
   "execution_count": null,
   "metadata": {},
   "outputs": [],
   "source": [
    "# plot_path = output_path / \"defects_label_map.html\"\n",
    "# save_plot_from_notbook_for_jekyll(p, plot_path)"
   ]
  },
  {
   "cell_type": "code",
   "execution_count": null,
   "metadata": {},
   "outputs": [],
   "source": [
    "regions = measure.regionprops(img_lab)\n",
    "# filter out small ones\n",
    "area_thresh = img_proc_np.shape[0] * img_proc_np.shape[1] * 0.001\n",
    "defects_bboxes = [reg.bbox for reg in regions if reg.area >= area_thresh]"
   ]
  },
  {
   "cell_type": "code",
   "execution_count": null,
   "metadata": {},
   "outputs": [],
   "source": [
    "p = plot_img_rgba(img, title=\"Original image with defect bounding boxes\")\n",
    "p = add_bboxes_on_img(p, defects_bboxes)\n",
    "\n",
    "show(p)"
   ]
  },
  {
   "cell_type": "code",
   "execution_count": null,
   "metadata": {},
   "outputs": [],
   "source": [
    "# plot_path = output_path / \"defects_bboxes.html\"\n",
    "# save_plot_from_notbook_for_jekyll(p, plot_path)"
   ]
  },
  {
   "cell_type": "markdown",
   "metadata": {},
   "source": [
    "### Putting everything together"
   ]
  },
  {
   "cell_type": "code",
   "execution_count": null,
   "metadata": {},
   "outputs": [],
   "source": [
    "def find_bounding_boxes(\n",
    "    img: Image.Image,\n",
    "    perc_thresh: int = 99,\n",
    "    area_thresh: float = 0.001,\n",
    "    dilation_size: int = 7,\n",
    ") -> list:\n",
    "    img_np = np.array(img)\n",
    "\n",
    "    max_val = img_np.max()\n",
    "    thresh_val = np.percentile(img_np, perc_thresh)\n",
    "    ret, img_thresh = cv2.threshold(img_np, int(thresh_val), 1.0, cv2.THRESH_BINARY)\n",
    "    img_thresh = img_thresh > 0\n",
    "\n",
    "    # combine neighboring mask regions\n",
    "    img_morph = morphology.binary_dilation(\n",
    "        img_thresh, np.ones([dilation_size, dilation_size])\n",
    "    )\n",
    "\n",
    "    # remove artifacts due to blurring at the edges\n",
    "    img_morph = segmentation.clear_border(img_morph)\n",
    "\n",
    "    # assign label to each connected region\n",
    "    img_lab = measure.label(img_morph)\n",
    "\n",
    "    # filter out small regions\n",
    "    regions = measure.regionprops(img_lab)\n",
    "    area_thresh = img_proc_np.shape[0] * img_proc_np.shape[1] * area_thresh\n",
    "    bboxes = [reg.bbox for reg in regions if reg.area >= area_thresh]\n",
    "\n",
    "    return bboxes"
   ]
  },
  {
   "cell_type": "markdown",
   "metadata": {},
   "source": [
    "## Defect Detection"
   ]
  },
  {
   "cell_type": "code",
   "execution_count": null,
   "metadata": {},
   "outputs": [],
   "source": [
    "def ft_defect_detection(\n",
    "    img: Image.Image,\n",
    "    mag_thresh: float = 0.5,\n",
    "    perc_thresh: int = 99,\n",
    "    area_thresh: float = 0.001,\n",
    "    dilation_size: int = 7,\n",
    ") -> list:\n",
    "    \n",
    "    img_proc = ft_extract_anomalies(img, mag_thresh)\n",
    "    bboxes = find_bounding_boxes(img_proc, perc_thresh, area_thresh, dilation_size)\n",
    "\n",
    "    return bboxes"
   ]
  },
  {
   "cell_type": "code",
   "execution_count": null,
   "metadata": {},
   "outputs": [],
   "source": [
    "# iterator through defect images\n",
    "path_it = (data_path / \"test/broken/\").iterdir()"
   ]
  },
  {
   "cell_type": "code",
   "execution_count": null,
   "metadata": {},
   "outputs": [],
   "source": [
    "img_path = next(path_it)\n",
    "\n",
    "img = Image.open(img_path)\n",
    "img = img.convert(\"L\")\n",
    "\n",
    "defect_bboxes = ft_defect_detection(img, mag_thresh=0.65)\n",
    "\n",
    "p = plot_img_rgba(img)\n",
    "p = add_bboxes_on_img(p, defect_bboxes)\n",
    "show(p)"
   ]
  },
  {
   "cell_type": "code",
   "execution_count": null,
   "metadata": {},
   "outputs": [],
   "source": [
    "# plot_path = output_path / \"defects_example.html\"\n",
    "# save_plot_from_notbook_for_jekyll(p, plot_path)"
   ]
  }
 ],
 "metadata": {
  "kernelspec": {
   "display_name": "blog_aoi",
   "language": "python",
   "name": "python3"
  },
  "language_info": {
   "codemirror_mode": {
    "name": "ipython",
    "version": 3
   },
   "file_extension": ".py",
   "mimetype": "text/x-python",
   "name": "python",
   "nbconvert_exporter": "python",
   "pygments_lexer": "ipython3",
   "version": "3.10.7"
  },
  "orig_nbformat": 4
 },
 "nbformat": 4,
 "nbformat_minor": 2
}
